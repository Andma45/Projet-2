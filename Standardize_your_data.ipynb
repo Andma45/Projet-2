{
  "nbformat": 4,
  "nbformat_minor": 0,
  "metadata": {
    "colab": {
      "provenance": [],
      "include_colab_link": true
    },
    "kernelspec": {
      "name": "python3",
      "display_name": "Python 3"
    }
  },
  "cells": [
    {
      "cell_type": "markdown",
      "metadata": {
        "id": "view-in-github",
        "colab_type": "text"
      },
      "source": [
        "<a href=\"https://colab.research.google.com/github/Andma45/Projet-2/blob/main/Standardize_your_data.ipynb\" target=\"_parent\"><img src=\"https://colab.research.google.com/assets/colab-badge.svg\" alt=\"Open In Colab\"/></a>"
      ]
    },
    {
      "cell_type": "markdown",
      "metadata": {
        "id": "v6t-vvMpLhAJ"
      },
      "source": [
        "# Execute the code below"
      ]
    },
    {
      "cell_type": "code",
      "metadata": {
        "id": "lqNi8-C9KhCq",
        "colab": {
          "base_uri": "https://localhost:8080/",
          "height": 419
        },
        "outputId": "638175d4-0823-417a-c091-4d584551fccd"
      },
      "source": [
        "import pandas as pd\n",
        "import seaborn as sns\n",
        "\n",
        "url = \"https://raw.githubusercontent.com/murpi/wilddata/master/quests/spotify.zip\"\n",
        "df_music = pd.read_csv(url)\n",
        "df_zoom = df_music.loc[df_music.genre.isin(['Country', 'Classical']), ['genre', 'duration_ms', 'speechiness']].reset_index(drop = True)\n",
        "df_zoom"
      ],
      "execution_count": null,
      "outputs": [
        {
          "output_type": "execute_result",
          "data": {
            "text/html": [
              "<div>\n",
              "<style scoped>\n",
              "    .dataframe tbody tr th:only-of-type {\n",
              "        vertical-align: middle;\n",
              "    }\n",
              "\n",
              "    .dataframe tbody tr th {\n",
              "        vertical-align: top;\n",
              "    }\n",
              "\n",
              "    .dataframe thead th {\n",
              "        text-align: right;\n",
              "    }\n",
              "</style>\n",
              "<table border=\"1\" class=\"dataframe\">\n",
              "  <thead>\n",
              "    <tr style=\"text-align: right;\">\n",
              "      <th></th>\n",
              "      <th>genre</th>\n",
              "      <th>duration_ms</th>\n",
              "      <th>speechiness</th>\n",
              "    </tr>\n",
              "  </thead>\n",
              "  <tbody>\n",
              "    <tr>\n",
              "      <th>0</th>\n",
              "      <td>Country</td>\n",
              "      <td>200013</td>\n",
              "      <td>0.0444</td>\n",
              "    </tr>\n",
              "    <tr>\n",
              "      <th>1</th>\n",
              "      <td>Country</td>\n",
              "      <td>208187</td>\n",
              "      <td>0.0569</td>\n",
              "    </tr>\n",
              "    <tr>\n",
              "      <th>2</th>\n",
              "      <td>Country</td>\n",
              "      <td>123360</td>\n",
              "      <td>0.0960</td>\n",
              "    </tr>\n",
              "    <tr>\n",
              "      <th>3</th>\n",
              "      <td>Country</td>\n",
              "      <td>238600</td>\n",
              "      <td>0.0368</td>\n",
              "    </tr>\n",
              "    <tr>\n",
              "      <th>4</th>\n",
              "      <td>Country</td>\n",
              "      <td>243000</td>\n",
              "      <td>0.0330</td>\n",
              "    </tr>\n",
              "    <tr>\n",
              "      <th>...</th>\n",
              "      <td>...</td>\n",
              "      <td>...</td>\n",
              "      <td>...</td>\n",
              "    </tr>\n",
              "    <tr>\n",
              "      <th>17915</th>\n",
              "      <td>Country</td>\n",
              "      <td>179147</td>\n",
              "      <td>0.0322</td>\n",
              "    </tr>\n",
              "    <tr>\n",
              "      <th>17916</th>\n",
              "      <td>Country</td>\n",
              "      <td>230400</td>\n",
              "      <td>0.0832</td>\n",
              "    </tr>\n",
              "    <tr>\n",
              "      <th>17917</th>\n",
              "      <td>Country</td>\n",
              "      <td>216093</td>\n",
              "      <td>0.0268</td>\n",
              "    </tr>\n",
              "    <tr>\n",
              "      <th>17918</th>\n",
              "      <td>Country</td>\n",
              "      <td>179947</td>\n",
              "      <td>0.0909</td>\n",
              "    </tr>\n",
              "    <tr>\n",
              "      <th>17919</th>\n",
              "      <td>Country</td>\n",
              "      <td>238173</td>\n",
              "      <td>0.0362</td>\n",
              "    </tr>\n",
              "  </tbody>\n",
              "</table>\n",
              "<p>17920 rows × 3 columns</p>\n",
              "</div>"
            ],
            "text/plain": [
              "         genre  duration_ms  speechiness\n",
              "0      Country       200013       0.0444\n",
              "1      Country       208187       0.0569\n",
              "2      Country       123360       0.0960\n",
              "3      Country       238600       0.0368\n",
              "4      Country       243000       0.0330\n",
              "...        ...          ...          ...\n",
              "17915  Country       179147       0.0322\n",
              "17916  Country       230400       0.0832\n",
              "17917  Country       216093       0.0268\n",
              "17918  Country       179947       0.0909\n",
              "17919  Country       238173       0.0362\n",
              "\n",
              "[17920 rows x 3 columns]"
            ]
          },
          "metadata": {
            "tags": []
          },
          "execution_count": 5
        }
      ]
    },
    {
      "cell_type": "markdown",
      "metadata": {
        "id": "GUc_ToyALjdJ"
      },
      "source": [
        "# Standardization and classification\n",
        "\n",
        "You now have a dataset with Country and Classical musics, and 2 numerical features : duration and speechiness.\n",
        "Our goal will be to predict genre from numerical features."
      ]
    },
    {
      "cell_type": "markdown",
      "metadata": {
        "id": "ZIbWjlGyMIV1"
      },
      "source": [
        "## Draw a scatterplot from df_zoom with\n",
        "- 'duration_ms' on X axis\n",
        "- 'speechiness' on Y axis\n",
        "- 'genre' in hue"
      ]
    },
    {
      "cell_type": "code",
      "metadata": {
        "id": "_BJLKhdjMY8N"
      },
      "source": [
        "# Your code here :\n"
      ],
      "execution_count": null,
      "outputs": []
    },
    {
      "cell_type": "markdown",
      "metadata": {
        "id": "bWh5LxO6MjkA"
      },
      "source": [
        "## Classification\n",
        "From df_zoom :\n",
        "- define X (`duration_ms` and `speechiness`)\n",
        "- define y (`genre`)\n",
        "- split your datas into train and test datasets, and `random_state = 2`\n",
        "- perform 3 classification algorithms (Logistic Regression, KNN and Decision Tree)\n",
        "- score your 3 models with accuracy score on the train dataset and on the test dataset\n"
      ]
    },
    {
      "cell_type": "code",
      "metadata": {
        "id": "-qAYEO6QN6ta"
      },
      "source": [
        "# Your code here :\n",
        "\n"
      ],
      "execution_count": null,
      "outputs": []
    },
    {
      "cell_type": "markdown",
      "metadata": {
        "id": "b9zPpxjhOWrJ"
      },
      "source": [
        "\n",
        "You have to find these accuracy scores for test set :\n",
        "- Logistic regression : 0.50982\n",
        "- KNN : 0.71295\n",
        "- Decision tree : 0.73728\n",
        "\n",
        "It seems Decision tree is better, but did you look at the overfitting ?"
      ]
    },
    {
      "cell_type": "markdown",
      "metadata": {
        "id": "Fqe6OCZrOg5f"
      },
      "source": [
        "## Standardization\n",
        "\n",
        "- Fit your scaler model on X_train\n",
        "- Transform X_train and X_test  with your scaler model into  X_train_scaled and X_test_scaled\n",
        "- perform and score the same 3 classification algorithms, but with X_train_scaled and X_test_scaled"
      ]
    },
    {
      "cell_type": "code",
      "metadata": {
        "id": "fO_T_Ma7PJR7"
      },
      "source": [
        "# Your code here :\n"
      ],
      "execution_count": null,
      "outputs": []
    },
    {
      "cell_type": "markdown",
      "metadata": {
        "id": "g0ehPzz2PK3r"
      },
      "source": [
        "# Conclusion\n",
        "- Decision tree is insensitive to Standardization.\n",
        "- Logistic regression and KNN have better result after Standardization.\n",
        "\n",
        "\n",
        "We can remember that standardization is always good in preprocessing, before machine learning classifications and regressions. At worst, it does not change anything. At best, it improves results."
      ]
    },
    {
      "cell_type": "code",
      "source": [],
      "metadata": {
        "id": "2vw8dCvMOQ54"
      },
      "execution_count": null,
      "outputs": []
    }
  ]
}